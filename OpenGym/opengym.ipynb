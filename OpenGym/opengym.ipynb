{
  "cells": [
    {
      "cell_type": "markdown",
      "metadata": {
        "id": "xQ1tKnrK4TcN"
      },
      "source": [
        "\n",
        "## Volume 2: OpenGym\n",
        "\n"
      ]
    },
    {
      "cell_type": "markdown",
      "metadata": {
        "id": "3qbA8CjB3_IL"
      },
      "source": [
        "<Name\\>\n",
        "<Class\\>\n",
        "<Date\\>\n",
        "\n",
        "\n",
        "\n"
      ]
    },
    {
      "cell_type": "markdown",
      "metadata": {
        "id": "AUZ1Wq-8NwSn"
      },
      "source": [
        "**Note:** Some IPython notebook platforms (such as Google Colab) do not currently support rendering OpenAI environments. In order to properly render the OpenGym environments in this lab, you may need to run the Jupyter Notebook locally (for example, run it in VSCode or from the command line)."
      ]
    },
    {
      "cell_type": "code",
      "execution_count": 19,
      "metadata": {
        "id": "ZlMKi7Fx35TI"
      },
      "outputs": [],
      "source": [
        "import gym\n",
        "import numpy as np\n",
        "from IPython.display import clear_output\n",
        "import random\n",
        "from matplotlib import pyplot as plt\n",
        "import time"
      ]
    },
    {
      "cell_type": "markdown",
      "metadata": {
        "id": "W-rNQLwd429z"
      },
      "source": [
        "**Problem 1**\n",
        "\n",
        "*   Implement `random_blackjack()`.\n",
        "*   Run the game 500 times and output the percentage of games that are wins.\n",
        "\n"
      ]
    },
    {
      "cell_type": "code",
      "execution_count": 2,
      "metadata": {
        "id": "lrhUolvq45vh"
      },
      "outputs": [],
      "source": [
        "# Problem 1\n",
        "def random_blackjack(n):\n",
        "    \"\"\"\n",
        "    Play a random game of Blackjack. Determine the\n",
        "    percentage the player wins out of n times.\n",
        "    Parameters:\n",
        "        n (int): number of iterations\n",
        "    Returns:\n",
        "        percent (float): percentage that the player\n",
        "                         wins\n",
        "    \"\"\"\n",
        "    num_wins = 0\n",
        "    for i in range(n):\n",
        "        env = gym.make(\"Blackjack-v1\")\n",
        "        env.reset()\n",
        "        while True:\n",
        "            winner = env.step(env.action_space.sample())[1]\n",
        "            if winner == 0: # its-a-tie-a (for now...)\n",
        "                continue\n",
        "            elif winner < 0: # computer won this time...\n",
        "                break\n",
        "            else: # random player is the wiener!\n",
        "                num_wins += 1\n",
        "                break\n",
        "        env.close()\n",
        "    return num_wins/n"
      ]
    },
    {
      "cell_type": "code",
      "execution_count": 3,
      "metadata": {
        "id": "JF-bS3gyIx4k"
      },
      "outputs": [
        {
          "name": "stdout",
          "output_type": "stream",
          "text": [
            "0.286\n"
          ]
        }
      ],
      "source": [
        "# Run the game here\n",
        "print(random_blackjack(500))"
      ]
    },
    {
      "cell_type": "markdown",
      "metadata": {
        "id": "xfZPCIMC5JmB"
      },
      "source": [
        "**Problem 2**\n",
        "\n",
        "* Implement `blackjack()`.\n",
        "* For `n` = 1, 2, ..., 21, plot the win percentage after 10,000 games of Blackjack.\n",
        "* Identify which value of `n` gives the highest win rate."
      ]
    },
    {
      "cell_type": "code",
      "execution_count": 4,
      "metadata": {
        "id": "6Uv7AD8I5LWk"
      },
      "outputs": [],
      "source": [
        "# Problem 2\n",
        "def blackjack(n=11):\n",
        "    \"\"\"\n",
        "    Play blackjack with naive algorithm.\n",
        "    Parameters:\n",
        "        n (int): maximum accepted player hand\n",
        "    Return:\n",
        "        percent (float): percentage of 10000 iterations\n",
        "                         that the player wins\n",
        "    \"\"\"\n",
        "    num_wins = 0\n",
        "    N = 10000\n",
        "    for i in range(N):\n",
        "        env = gym.make(\"Blackjack-v1\")\n",
        "        env.reset()\n",
        "        while True:\n",
        "            info, winner, extra0, extra1 = env.step(1)\n",
        "            hand = info[0]\n",
        "            if hand > n:\n",
        "                break\n",
        "        info, winner, extra0, extra1 = env.step(0)\n",
        "        if info[0] > hand:\n",
        "            raise RuntimeError(f\"hand was larger than {n} after quitting\")\n",
        "        if winner > 0:\n",
        "            num_wins += 1\n",
        "        env.close()\n",
        "    return num_wins/N"
      ]
    },
    {
      "cell_type": "code",
      "execution_count": 5,
      "metadata": {
        "id": "miBtqMaVIjFJ"
      },
      "outputs": [
        {
          "data": {
            "image/png": "[encoded data removed]",
            "text/plain": [
              "<Figure size 432x288 with 1 Axes>"
            ]
          },
          "metadata": {
            "needs_background": "light"
          },
          "output_type": "display_data"
        },
        {
          "name": "stdout",
          "output_type": "stream",
          "text": [
            "best quitting value: 15\n"
          ]
        }
      ],
      "source": [
        "# Plot here\n",
        "winrates = []\n",
        "enns = np.arange(1,22)\n",
        "for n in enns:\n",
        "\twinrates.append(blackjack(n))\n",
        "plt.plot(enns, winrates)\n",
        "plt.title(\"Win rate vs. quitting value for blackjack\")\n",
        "plt.xlabel(\"quitting value\")\n",
        "plt.ylabel(\"win rate\")\n",
        "plt.show()\n",
        "print(f'best quitting value: {np.argmax(winrates)+1}')\n"
      ]
    },
    {
      "cell_type": "markdown",
      "metadata": {
        "id": "lY8vR6Ygxxk-"
      },
      "source": [
        "*Identify which value(s) give the highest winrate here:*\n",
        "n ~ 10-14"
      ]
    },
    {
      "cell_type": "markdown",
      "metadata": {
        "id": "i9xB1KaZ5OJ3"
      },
      "source": [
        "**Problem 3**\n",
        "\n",
        "* Implement `cartpole()`.\n",
        "* Render the game and run your function once.\n",
        "* Run Cartpole 100 times (without rendering) and print out the average number of steps before it terminates."
      ]
    },
    {
      "cell_type": "code",
      "execution_count": 12,
      "metadata": {
        "id": "AGEUkBOx5Qbk"
      },
      "outputs": [],
      "source": [
        "# Problem 3\n",
        "def cartpole(render=False):\n",
        "    \"\"\"\n",
        "    Solve CartPole-v0 by checking the velocity\n",
        "    of the tip of the pole.\n",
        "    Parameters: \n",
        "        render (bool): If True, render environment at each step\n",
        "    Return:\n",
        "        iterations (integer): number of steps or iterations\n",
        "                              to solve the environment\n",
        "    \"\"\"\n",
        "    count = 0\n",
        "    with gym.make(\"CartPole-v1\") as env:\n",
        "        env.reset()\n",
        "        obs, reward, done, info = env.step(env.action_space.sample())\n",
        "        while not done:\n",
        "            if render:\n",
        "                env.render()\n",
        "            if obs[3] < 0:\n",
        "                obs, reward, done, extra = env.step(0)\n",
        "            else:\n",
        "                obs, reward, done, extra = env.step(1)\n",
        "            count += 1\n",
        "    return count"
      ]
    },
    {
      "cell_type": "code",
      "execution_count": 13,
      "metadata": {
        "id": "78iSdRs6wZKb"
      },
      "outputs": [
        {
          "data": {
            "text/plain": [
              "223"
            ]
          },
          "execution_count": 13,
          "metadata": {},
          "output_type": "execute_result"
        }
      ],
      "source": [
        "# Render the game and run once here\n",
        "cartpole()"
      ]
    },
    {
      "cell_type": "code",
      "execution_count": 14,
      "metadata": {
        "id": "EaNbYfsuIhxN"
      },
      "outputs": [
        {
          "name": "stdout",
          "output_type": "stream",
          "text": [
            "average steps per game: 201.84\n"
          ]
        }
      ],
      "source": [
        "# Run the game here and print average steps to termination\n",
        "steps_per = []\n",
        "for i in range(100):\n",
        "\tsteps_per.append(cartpole())\n",
        "print(f'average steps per game: {np.mean(steps_per)}')"
      ]
    },
    {
      "cell_type": "markdown",
      "metadata": {
        "id": "TPFFk0nX5U_b"
      },
      "source": [
        "**Problem 4**\n",
        "\n",
        "* Implement `car()`.\n",
        "* Render the game and run your function once.\n",
        "* Run MountainCar 100 times (without rendering) and print out the average number of steps before it terminates."
      ]
    },
    {
      "cell_type": "code",
      "execution_count": 15,
      "metadata": {
        "id": "Lqq3Q6EO5Wgq"
      },
      "outputs": [],
      "source": [
        "# Problem 4\n",
        "def car(render=False):\n",
        "    \"\"\"\n",
        "    Solve MountainCar-v0 by checking the position\n",
        "    of the car.\n",
        "    Parameters: \n",
        "        render (bool): If True, render environment at each step\n",
        "    Return:\n",
        "        iterations (integer): number of steps or iterations\n",
        "                              to solve the environment\n",
        "    \"\"\"\n",
        "    count = 0\n",
        "    with gym.make(\"MountainCar-v0\") as env:\n",
        "        env.reset()\n",
        "        obs, reward, done, info = env.step(2)\n",
        "        if render:\n",
        "            env.render()\n",
        "        while not done:\n",
        "            if obs[1] > 0:\n",
        "                obs, reward, done, info = env.step(2)\n",
        "            else:\n",
        "                obs, reward, done, info = env.step(0)\n",
        "            if render:\n",
        "                env.render()\n",
        "            count += 1\n",
        "    return count"
      ]
    },
    {
      "cell_type": "code",
      "execution_count": 16,
      "metadata": {
        "id": "4_kSEBYdwgnc"
      },
      "outputs": [
        {
          "data": {
            "text/plain": [
              "121"
            ]
          },
          "execution_count": 16,
          "metadata": {},
          "output_type": "execute_result"
        }
      ],
      "source": [
        "# Render the game here\n",
        "car()"
      ]
    },
    {
      "cell_type": "code",
      "execution_count": 20,
      "metadata": {
        "id": "fUsBDn6KIgw5"
      },
      "outputs": [
        {
          "name": "stdout",
          "output_type": "stream",
          "text": [
            "average steps per game: 118.59\n"
          ]
        }
      ],
      "source": [
        "# Run the game here and print average steps to termination\n",
        "steps_per = []\n",
        "for i in range(100):\n",
        "\tsteps_per.append(car())\n",
        "print(f'average steps per game: {np.mean(steps_per)}')"
      ]
    },
    {
      "cell_type": "markdown",
      "metadata": {
        "id": "U5tSd-zE4sHZ"
      },
      "source": [
        "**Helper Function for Problem 5**"
      ]
    },
    {
      "cell_type": "code",
      "execution_count": 21,
      "metadata": {
        "id": "zNNc3x9x09Zr"
      },
      "outputs": [],
      "source": [
        "def find_qvalues(env,alpha=.1,gamma=.6,epsilon=.1):\n",
        "    \"\"\"\n",
        "    Use the Q-learning algorithm to find qvalues.\n",
        "    Parameters:\n",
        "        env (str): environment name\n",
        "        alpha (float): learning rate\n",
        "        gamma (float): discount factor\n",
        "        epsilon (float): maximum value\n",
        "    Returns:\n",
        "        q_table (ndarray nxm)\n",
        "    \"\"\"\n",
        "    # Make environment\n",
        "    env = gym.make(env)\n",
        "    # Make Q-table\n",
        "    q_table = np.zeros((env.observation_space.n,env.action_space.n))\n",
        "\n",
        "    # Train\n",
        "    for i in range(1,100001):\n",
        "        # Reset state\n",
        "        state = env.reset()\n",
        "\n",
        "        epochs, penalties, reward, = 0,0,0\n",
        "        done = False\n",
        "\n",
        "        while not done:\n",
        "            # Accept based on alpha\n",
        "            if random.uniform(0,1) < epsilon:\n",
        "                action = env.action_space.sample()\n",
        "            else:\n",
        "                action = np.argmax(q_table[state])\n",
        "\n",
        "            # Take action\n",
        "            next_state, reward, done, info = env.step(action)\n",
        "\n",
        "            # Calculate new qvalue\n",
        "            old_value = q_table[state,action]\n",
        "            next_max = np.max(q_table[next_state])\n",
        "\n",
        "            new_value = (1-alpha) * old_value + alpha * (reward + gamma * next_max)\n",
        "            q_table[state, action] = new_value\n",
        "\n",
        "            # Check if penalty is made\n",
        "            if reward == -10:\n",
        "                penalties += 1\n",
        "\n",
        "            # Get next observation\n",
        "            state = next_state\n",
        "            epochs += 1\n",
        "\n",
        "        # Print episode number\n",
        "        if i % 100 == 0:\n",
        "            clear_output(wait=True)\n",
        "            print(f\"Episode: {i}\")\n",
        "\n",
        "    print(\"Training finished.\")\n",
        "    return q_table\n"
      ]
    },
    {
      "cell_type": "markdown",
      "metadata": {
        "id": "ZODhO4AS5YQq"
      },
      "source": [
        "**Problem 5**\n",
        "\n",
        "* Render the \"`Taxi-v3`\" environment, act randomly until it terminates, and calculate the total reward\n",
        "* Render the \"`Taxi-v3`\" environment, use the Q-table to act optimally until it terminates, and calculate the total reward\n",
        "* Implement `taxi()`, then use it to print the average total reward for each algorithm.\n"
      ]
    },
    {
      "cell_type": "code",
      "execution_count": 22,
      "metadata": {
        "id": "e3i-LEnYKHyz"
      },
      "outputs": [],
      "source": [
        "# Random actions Taxi game\n",
        "def random_taxi():\n",
        "\treward_potatoes = 0\n",
        "\twith gym.make(\"Taxi-v3\") as env:\n",
        "\t\tenv.reset()\n",
        "\t\tobs, reward, done, info = env.step(env.action_space.sample())\n",
        "\t\treward_potatoes += reward\n",
        "\t\twhile not done:\n",
        "\t\t\tobs, reward, done, info = env.step(env.action_space.sample())\n",
        "\t\t\treward_potatoes += reward\n",
        "\treturn reward"
      ]
    },
    {
      "cell_type": "code",
      "execution_count": null,
      "metadata": {
        "id": "0ejXeML7KJSJ"
      },
      "outputs": [],
      "source": [
        "# Q-table actions Taxi game"
      ]
    },
    {
      "cell_type": "code",
      "execution_count": 23,
      "metadata": {
        "id": "APK2iYQV5aR4"
      },
      "outputs": [],
      "source": [
        "def taxi(q_table):\n",
        "    \"\"\"\n",
        "    Compare naive and q-learning algorithms.\n",
        "    Parameters:\n",
        "        q_table (ndarray nxm): table of qvalues\n",
        "    Returns:\n",
        "        naive (float): mean reward of naive algorithm\n",
        "                       of 10000 runs\n",
        "        q_reward (float): mean reward of Q-learning algorithm\n",
        "                          of 10000 runs\n",
        "    \"\"\"\n",
        "    random_potatoes = []\n",
        "    N = 10001\n",
        "    for i in range(1,N):\n",
        "        if i%100 == 0:\n",
        "            clear_output(wait=True)\n",
        "            print(i, end = f\"/{N} ({int(100*i/N)}%)\")\n",
        "        random_potatoes.append(random_taxi())\n",
        "    \n",
        "    return np.mean(random_potatoes)"
      ]
    },
    {
      "cell_type": "code",
      "execution_count": 25,
      "metadata": {
        "id": "PhS7JR1JKOQu"
      },
      "outputs": [
        {
          "name": "stdout",
          "output_type": "stream",
          "text": [
            "1700/10000 (17%)"
          ]
        },
        {
          "ename": "KeyboardInterrupt",
          "evalue": "",
          "output_type": "error",
          "traceback": [
            "\u001b[0;31m---------------------------------------------------------------------------\u001b[0m",
            "\u001b[0;31mKeyboardInterrupt\u001b[0m                         Traceback (most recent call last)",
            "\u001b[1;32m/Users/chase/Desktop/Math321Volume2/byu_vol2/OpenGym/opengym.ipynb Cell 26'\u001b[0m in \u001b[0;36m<cell line: 4>\u001b[0;34m()\u001b[0m\n\u001b[1;32m      <a href='vscode-notebook-cell:/Users/chase/Desktop/Math321Volume2/byu_vol2/OpenGym/opengym.ipynb#ch0000025?line=0'>1</a>\u001b[0m \u001b[39m# Print the average rewards of the Taxi game for both algorithms run 10,000 times\u001b[39;00m\n\u001b[1;32m      <a href='vscode-notebook-cell:/Users/chase/Desktop/Math321Volume2/byu_vol2/OpenGym/opengym.ipynb#ch0000025?line=1'>2</a>\u001b[0m qtable \u001b[39m=\u001b[39m find_qvalues(\u001b[39m\"\u001b[39m\u001b[39mTaxi-v3\u001b[39m\u001b[39m\"\u001b[39m)\n\u001b[0;32m----> <a href='vscode-notebook-cell:/Users/chase/Desktop/Math321Volume2/byu_vol2/OpenGym/opengym.ipynb#ch0000025?line=3'>4</a>\u001b[0m taxi(\u001b[39m0\u001b[39m)\n",
            "\u001b[1;32m/Users/chase/Desktop/Math321Volume2/byu_vol2/OpenGym/opengym.ipynb Cell 25'\u001b[0m in \u001b[0;36mtaxi\u001b[0;34m(q_table)\u001b[0m\n\u001b[1;32m     <a href='vscode-notebook-cell:/Users/chase/Desktop/Math321Volume2/byu_vol2/OpenGym/opengym.ipynb#ch0000024?line=15'>16</a>\u001b[0m         clear_output(wait\u001b[39m=\u001b[39m\u001b[39mTrue\u001b[39;00m)\n\u001b[1;32m     <a href='vscode-notebook-cell:/Users/chase/Desktop/Math321Volume2/byu_vol2/OpenGym/opengym.ipynb#ch0000024?line=16'>17</a>\u001b[0m         \u001b[39mprint\u001b[39m(i, end \u001b[39m=\u001b[39m \u001b[39mf\u001b[39m\u001b[39m\"\u001b[39m\u001b[39m/\u001b[39m\u001b[39m{\u001b[39;00mN\u001b[39m}\u001b[39;00m\u001b[39m (\u001b[39m\u001b[39m{\u001b[39;00m\u001b[39mint\u001b[39m(\u001b[39m100\u001b[39m\u001b[39m*\u001b[39mi\u001b[39m/\u001b[39mN)\u001b[39m}\u001b[39;00m\u001b[39m%)\u001b[39m\u001b[39m\"\u001b[39m)\n\u001b[0;32m---> <a href='vscode-notebook-cell:/Users/chase/Desktop/Math321Volume2/byu_vol2/OpenGym/opengym.ipynb#ch0000024?line=17'>18</a>\u001b[0m     random_potatoes\u001b[39m.\u001b[39mappend(random_taxi())\n\u001b[1;32m     <a href='vscode-notebook-cell:/Users/chase/Desktop/Math321Volume2/byu_vol2/OpenGym/opengym.ipynb#ch0000024?line=19'>20</a>\u001b[0m \u001b[39mreturn\u001b[39;00m np\u001b[39m.\u001b[39mmean(random_potatoes)\n",
            "\u001b[1;32m/Users/chase/Desktop/Math321Volume2/byu_vol2/OpenGym/opengym.ipynb Cell 23'\u001b[0m in \u001b[0;36mrandom_taxi\u001b[0;34m()\u001b[0m\n\u001b[1;32m      <a href='vscode-notebook-cell:/Users/chase/Desktop/Math321Volume2/byu_vol2/OpenGym/opengym.ipynb#ch0000022?line=1'>2</a>\u001b[0m \u001b[39mdef\u001b[39;00m \u001b[39mrandom_taxi\u001b[39m():\n\u001b[1;32m      <a href='vscode-notebook-cell:/Users/chase/Desktop/Math321Volume2/byu_vol2/OpenGym/opengym.ipynb#ch0000022?line=2'>3</a>\u001b[0m \treward_potatoes \u001b[39m=\u001b[39m \u001b[39m0\u001b[39m\n\u001b[0;32m----> <a href='vscode-notebook-cell:/Users/chase/Desktop/Math321Volume2/byu_vol2/OpenGym/opengym.ipynb#ch0000022?line=3'>4</a>\u001b[0m \t\u001b[39mwith\u001b[39;00m gym\u001b[39m.\u001b[39;49mmake(\u001b[39m\"\u001b[39;49m\u001b[39mTaxi-v3\u001b[39;49m\u001b[39m\"\u001b[39;49m) \u001b[39mas\u001b[39;00m env:\n\u001b[1;32m      <a href='vscode-notebook-cell:/Users/chase/Desktop/Math321Volume2/byu_vol2/OpenGym/opengym.ipynb#ch0000022?line=4'>5</a>\u001b[0m \t\tenv\u001b[39m.\u001b[39mreset()\n\u001b[1;32m      <a href='vscode-notebook-cell:/Users/chase/Desktop/Math321Volume2/byu_vol2/OpenGym/opengym.ipynb#ch0000022?line=5'>6</a>\u001b[0m \t\tobs, reward, done, info \u001b[39m=\u001b[39m env\u001b[39m.\u001b[39mstep(env\u001b[39m.\u001b[39maction_space\u001b[39m.\u001b[39msample())\n",
            "File \u001b[0;32m/Library/Frameworks/Python.framework/Versions/3.8/lib/python3.8/site-packages/gym/envs/registration.py:676\u001b[0m, in \u001b[0;36mmake\u001b[0;34m(id, **kwargs)\u001b[0m\n\u001b[1;32m    <a href='file:///Library/Frameworks/Python.framework/Versions/3.8/lib/python3.8/site-packages/gym/envs/registration.py?line=674'>675</a>\u001b[0m \u001b[39mdef\u001b[39;00m \u001b[39mmake\u001b[39m(\u001b[39mid\u001b[39m: \u001b[39mstr\u001b[39m, \u001b[39m*\u001b[39m\u001b[39m*\u001b[39mkwargs) \u001b[39m-\u001b[39m\u001b[39m>\u001b[39m \u001b[39m\"\u001b[39m\u001b[39mEnv\u001b[39m\u001b[39m\"\u001b[39m:\n\u001b[0;32m--> <a href='file:///Library/Frameworks/Python.framework/Versions/3.8/lib/python3.8/site-packages/gym/envs/registration.py?line=675'>676</a>\u001b[0m     \u001b[39mreturn\u001b[39;00m registry\u001b[39m.\u001b[39;49mmake(\u001b[39mid\u001b[39;49m, \u001b[39m*\u001b[39;49m\u001b[39m*\u001b[39;49mkwargs)\n",
            "File \u001b[0;32m/Library/Frameworks/Python.framework/Versions/3.8/lib/python3.8/site-packages/gym/envs/registration.py:487\u001b[0m, in \u001b[0;36mEnvRegistry.make\u001b[0;34m(self, path, **kwargs)\u001b[0m\n\u001b[1;32m    <a href='file:///Library/Frameworks/Python.framework/Versions/3.8/lib/python3.8/site-packages/gym/envs/registration.py?line=482'>483</a>\u001b[0m     logger\u001b[39m.\u001b[39minfo(\u001b[39m\"\u001b[39m\u001b[39mMaking new env: \u001b[39m\u001b[39m%s\u001b[39;00m\u001b[39m\"\u001b[39m, path)\n\u001b[1;32m    <a href='file:///Library/Frameworks/Python.framework/Versions/3.8/lib/python3.8/site-packages/gym/envs/registration.py?line=484'>485</a>\u001b[0m \u001b[39m# We need to manually parse the ID so we can check\u001b[39;00m\n\u001b[1;32m    <a href='file:///Library/Frameworks/Python.framework/Versions/3.8/lib/python3.8/site-packages/gym/envs/registration.py?line=485'>486</a>\u001b[0m \u001b[39m# the version without error-ing out in self.spec\u001b[39;00m\n\u001b[0;32m--> <a href='file:///Library/Frameworks/Python.framework/Versions/3.8/lib/python3.8/site-packages/gym/envs/registration.py?line=486'>487</a>\u001b[0m namespace, name, version \u001b[39m=\u001b[39m parse_env_id(path)\n\u001b[1;32m    <a href='file:///Library/Frameworks/Python.framework/Versions/3.8/lib/python3.8/site-packages/gym/envs/registration.py?line=488'>489</a>\u001b[0m \u001b[39m# Get all versions of this spec.\u001b[39;00m\n\u001b[1;32m    <a href='file:///Library/Frameworks/Python.framework/Versions/3.8/lib/python3.8/site-packages/gym/envs/registration.py?line=489'>490</a>\u001b[0m versions \u001b[39m=\u001b[39m \u001b[39mself\u001b[39m\u001b[39m.\u001b[39menv_specs\u001b[39m.\u001b[39mversions(namespace, name)\n",
            "File \u001b[0;32m/Library/Frameworks/Python.framework/Versions/3.8/lib/python3.8/site-packages/gym/envs/registration.py:69\u001b[0m, in \u001b[0;36mparse_env_id\u001b[0;34m(id)\u001b[0m\n\u001b[1;32m     <a href='file:///Library/Frameworks/Python.framework/Versions/3.8/lib/python3.8/site-packages/gym/envs/registration.py?line=59'>60</a>\u001b[0m \u001b[39mdef\u001b[39;00m \u001b[39mparse_env_id\u001b[39m(\u001b[39mid\u001b[39m: \u001b[39mstr\u001b[39m) \u001b[39m-\u001b[39m\u001b[39m>\u001b[39m Tuple[Optional[\u001b[39mstr\u001b[39m], \u001b[39mstr\u001b[39m, Optional[\u001b[39mint\u001b[39m]]:\n\u001b[1;32m     <a href='file:///Library/Frameworks/Python.framework/Versions/3.8/lib/python3.8/site-packages/gym/envs/registration.py?line=60'>61</a>\u001b[0m     \u001b[39m\"\"\"Parse environment ID string format.\u001b[39;00m\n\u001b[1;32m     <a href='file:///Library/Frameworks/Python.framework/Versions/3.8/lib/python3.8/site-packages/gym/envs/registration.py?line=61'>62</a>\u001b[0m \n\u001b[1;32m     <a href='file:///Library/Frameworks/Python.framework/Versions/3.8/lib/python3.8/site-packages/gym/envs/registration.py?line=62'>63</a>\u001b[0m \u001b[39m    This format is true today, but it's *not* an official spec.\u001b[39;00m\n\u001b[0;32m   (...)\u001b[0m\n\u001b[1;32m     <a href='file:///Library/Frameworks/Python.framework/Versions/3.8/lib/python3.8/site-packages/gym/envs/registration.py?line=66'>67</a>\u001b[0m \u001b[39m    to include an optional username.\u001b[39;00m\n\u001b[1;32m     <a href='file:///Library/Frameworks/Python.framework/Versions/3.8/lib/python3.8/site-packages/gym/envs/registration.py?line=67'>68</a>\u001b[0m \u001b[39m    \"\"\"\u001b[39;00m\n\u001b[0;32m---> <a href='file:///Library/Frameworks/Python.framework/Versions/3.8/lib/python3.8/site-packages/gym/envs/registration.py?line=68'>69</a>\u001b[0m     match \u001b[39m=\u001b[39m ENV_ID_RE\u001b[39m.\u001b[39mfullmatch(\u001b[39mid\u001b[39m)\n\u001b[1;32m     <a href='file:///Library/Frameworks/Python.framework/Versions/3.8/lib/python3.8/site-packages/gym/envs/registration.py?line=69'>70</a>\u001b[0m     \u001b[39mif\u001b[39;00m \u001b[39mnot\u001b[39;00m match:\n\u001b[1;32m     <a href='file:///Library/Frameworks/Python.framework/Versions/3.8/lib/python3.8/site-packages/gym/envs/registration.py?line=70'>71</a>\u001b[0m         \u001b[39mraise\u001b[39;00m error\u001b[39m.\u001b[39mError(\n\u001b[1;32m     <a href='file:///Library/Frameworks/Python.framework/Versions/3.8/lib/python3.8/site-packages/gym/envs/registration.py?line=71'>72</a>\u001b[0m             \u001b[39mf\u001b[39m\u001b[39m\"\u001b[39m\u001b[39mMalformed environment ID: \u001b[39m\u001b[39m{\u001b[39;00m\u001b[39mid\u001b[39m\u001b[39m}\u001b[39;00m\u001b[39m.\u001b[39m\u001b[39m\"\u001b[39m\n\u001b[1;32m     <a href='file:///Library/Frameworks/Python.framework/Versions/3.8/lib/python3.8/site-packages/gym/envs/registration.py?line=72'>73</a>\u001b[0m             \u001b[39mf\u001b[39m\u001b[39m\"\u001b[39m\u001b[39m(Currently all IDs must be of the form \u001b[39m\u001b[39m{\u001b[39;00mENV_ID_RE\u001b[39m}\u001b[39;00m\u001b[39m.)\u001b[39m\u001b[39m\"\u001b[39m\n\u001b[1;32m     <a href='file:///Library/Frameworks/Python.framework/Versions/3.8/lib/python3.8/site-packages/gym/envs/registration.py?line=73'>74</a>\u001b[0m         )\n",
            "\u001b[0;31mKeyboardInterrupt\u001b[0m: "
          ]
        }
      ],
      "source": [
        "# Print the average rewards of the Taxi game for both algorithms run 10,000 times\n",
        "qtable = find_qvalues(\"Taxi-v3\")\n",
        "time.sleep(.5)\n",
        "taxi(0)"
      ]
    }
  ],
  "metadata": {
    "colab": {
      "collapsed_sections": [],
      "name": "opengym.ipynb",
      "provenance": []
    },
    "kernelspec": {
      "display_name": "Python 3",
      "name": "python3"
    },
    "language_info": {
      "codemirror_mode": {
        "name": "ipython",
        "version": 3
      },
      "file_extension": ".py",
      "mimetype": "text/x-python",
      "name": "python",
      "nbconvert_exporter": "python",
      "pygments_lexer": "ipython3",
      "version": "3.8.3"
    }
  },
  "nbformat": 4,
  "nbformat_minor": 0
}
