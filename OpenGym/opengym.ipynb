{
  "cells": [
    {
      "cell_type": "markdown",
      "metadata": {
        "id": "xQ1tKnrK4TcN"
      },
      "source": [
        "\n",
        "## Volume 2: OpenGym\n",
        "\n"
      ]
    },
    {
      "cell_type": "markdown",
      "metadata": {
        "id": "3qbA8CjB3_IL"
      },
      "source": [
        "<Name\\>\n",
        "<Class\\>\n",
        "<Date\\>\n",
        "\n",
        "\n",
        "\n"
      ]
    },
    {
      "cell_type": "markdown",
      "metadata": {
        "id": "AUZ1Wq-8NwSn"
      },
      "source": [
        "**Note:** Some IPython notebook platforms (such as Google Colab) do not currently support rendering OpenAI environments. In order to properly render the OpenGym environments in this lab, you may need to run the Jupyter Notebook locally (for example, run it in VSCode or from the command line)."
      ]
    },
    {
      "cell_type": "code",
      "execution_count": 103,
      "metadata": {
        "id": "ZlMKi7Fx35TI"
      },
      "outputs": [],
      "source": [
        "import gym\n",
        "import numpy as np\n",
        "from IPython.display import clear_output\n",
        "import random\n",
        "from matplotlib import pyplot as plt"
      ]
    },
    {
      "cell_type": "markdown",
      "metadata": {
        "id": "W-rNQLwd429z"
      },
      "source": [
        "**Problem 1**\n",
        "\n",
        "*   Implement `random_blackjack()`.\n",
        "*   Run the game 500 times and output the percentage of games that are wins.\n",
        "\n"
      ]
    },
    {
      "cell_type": "code",
      "execution_count": 104,
      "metadata": {
        "id": "lrhUolvq45vh"
      },
      "outputs": [],
      "source": [
        "# Problem 1\n",
        "def random_blackjack(n):\n",
        "    \"\"\"\n",
        "    Play a random game of Blackjack. Determine the\n",
        "    percentage the player wins out of n times.\n",
        "    Parameters:\n",
        "        n (int): number of iterations\n",
        "    Returns:\n",
        "        percent (float): percentage that the player\n",
        "                         wins\n",
        "    \"\"\"\n",
        "    num_wins = 0\n",
        "    for i in range(n):\n",
        "        env = gym.make(\"Blackjack-v1\")\n",
        "        env.reset()\n",
        "        while True:\n",
        "            winner = env.step(env.action_space.sample())[1]\n",
        "            if winner == 0: # its-a-tie-a (for now...)\n",
        "                continue\n",
        "            elif winner < 0: # computer won this time...\n",
        "                break\n",
        "            else: # random player is the wiener!\n",
        "                num_wins += 1\n",
        "                break\n",
        "        env.close()\n",
        "    return num_wins/n"
      ]
    },
    {
      "cell_type": "code",
      "execution_count": 105,
      "metadata": {
        "id": "JF-bS3gyIx4k"
      },
      "outputs": [
        {
          "name": "stdout",
          "output_type": "stream",
          "text": [
            "0.262\n"
          ]
        }
      ],
      "source": [
        "# Run the game here\n",
        "print(random_blackjack(500))"
      ]
    },
    {
      "cell_type": "markdown",
      "metadata": {
        "id": "xfZPCIMC5JmB"
      },
      "source": [
        "**Problem 2**\n",
        "\n",
        "* Implement `blackjack()`.\n",
        "* For `n` = 1, 2, ..., 21, plot the win percentage after 10,000 games of Blackjack.\n",
        "* Identify which value of `n` gives the highest win rate."
      ]
    },
    {
      "cell_type": "code",
      "execution_count": 106,
      "metadata": {
        "id": "6Uv7AD8I5LWk"
      },
      "outputs": [],
      "source": [
        "# Problem 2\n",
        "def blackjack(n=11):\n",
        "    \"\"\"\n",
        "    Play blackjack with naive algorithm.\n",
        "    Parameters:\n",
        "        n (int): maximum accepted player hand\n",
        "    Return:\n",
        "        percent (float): percentage of 10000 iterations\n",
        "                         that the player wins\n",
        "    \"\"\"\n",
        "    num_wins = 0\n",
        "    N = 10000\n",
        "    for i in range(1,N+1):\n",
        "        with gym.make(\"Blackjack-v1\") as env:\n",
        "            env.reset()\n",
        "            while True:\n",
        "                info, winner, extra0, extra1 = env.step(1)\n",
        "                hand = info[0]\n",
        "                if hand > n:\n",
        "                    break\n",
        "            info, winner, extra0, extra1 = env.step(0)\n",
        "            if info[0] > hand:\n",
        "                raise RuntimeError(f\"hand was larger than {n} after quitting\")\n",
        "            if winner > 0:\n",
        "                num_wins += 1\n",
        "    return num_wins/N"
      ]
    },
    {
      "cell_type": "code",
      "execution_count": 107,
      "metadata": {
        "id": "miBtqMaVIjFJ"
      },
      "outputs": [
        {
          "name": "stdout",
          "output_type": "stream",
          "text": [
            "testing stopping value: 21\n"
          ]
        },
        {
          "data": {
            "image/png": "[encoded data removed]",
            "text/plain": [
              "<Figure size 432x288 with 1 Axes>"
            ]
          },
          "metadata": {
            "needs_background": "light"
          },
          "output_type": "display_data"
        },
        {
          "name": "stdout",
          "output_type": "stream",
          "text": [
            "best quitting value: 1\n"
          ]
        }
      ],
      "source": [
        "# Plot here\n",
        "winrates = []\n",
        "enns = np.arange(1,22)\n",
        "for n in enns:\n",
        "\tclear_output(wait = True)\n",
        "\tprint(f'testing stopping value: {n}')\n",
        "\twinrates.append(blackjack(n))\n",
        "plt.plot(enns, winrates)\n",
        "plt.title(\"Win rate vs. quitting value for blackjack\")\n",
        "plt.xlabel(\"quitting value\")\n",
        "plt.ylabel(\"win rate\")\n",
        "plt.show()\n",
        "print(f'best quitting value: {np.argmax(winrates)+1}')\n"
      ]
    },
    {
      "cell_type": "markdown",
      "metadata": {
        "id": "lY8vR6Ygxxk-"
      },
      "source": [
        "*Identify which value(s) give the highest winrate here:*\n",
        "n ~ 10-14"
      ]
    },
    {
      "cell_type": "markdown",
      "metadata": {
        "id": "i9xB1KaZ5OJ3"
      },
      "source": [
        "**Problem 3**\n",
        "\n",
        "* Implement `cartpole()`.\n",
        "* Render the game and run your function once.\n",
        "* Run Cartpole 100 times (without rendering) and print out the average number of steps before it terminates."
      ]
    },
    {
      "cell_type": "code",
      "execution_count": 108,
      "metadata": {
        "id": "AGEUkBOx5Qbk"
      },
      "outputs": [],
      "source": [
        "# Problem 3\n",
        "def cartpole(render=False):\n",
        "    \"\"\"\n",
        "    Solve CartPole-v0 by checking the velocity\n",
        "    of the tip of the pole.\n",
        "    Parameters: \n",
        "        render (bool): If True, render environment at each step\n",
        "    Return:\n",
        "        iterations (integer): number of steps or iterations\n",
        "                              to solve the environment\n",
        "    \"\"\"\n",
        "    count = 0\n",
        "    with gym.make(\"CartPole-v1\") as env:\n",
        "        env.reset()\n",
        "        obs, reward, done, info = env.step(env.action_space.sample())\n",
        "        while not done:\n",
        "            if render:\n",
        "                env.render()\n",
        "            if obs[3] < 0:\n",
        "                obs, reward, done, extra = env.step(0)\n",
        "            else:\n",
        "                obs, reward, done, extra = env.step(1)\n",
        "            count += 1\n",
        "    return count"
      ]
    },
    {
      "cell_type": "code",
      "execution_count": 109,
      "metadata": {
        "id": "78iSdRs6wZKb"
      },
      "outputs": [
        {
          "data": {
            "text/plain": [
              "224"
            ]
          },
          "execution_count": 109,
          "metadata": {},
          "output_type": "execute_result"
        }
      ],
      "source": [
        "# Render the game and run once here\n",
        "cartpole()"
      ]
    },
    {
      "cell_type": "code",
      "execution_count": 110,
      "metadata": {
        "id": "EaNbYfsuIhxN"
      },
      "outputs": [
        {
          "name": "stdout",
          "output_type": "stream",
          "text": [
            "average steps per game: 202.4\n"
          ]
        }
      ],
      "source": [
        "# Run the game here and print average steps to termination\n",
        "steps_per = []\n",
        "for i in range(100):\n",
        "\tsteps_per.append(cartpole())\n",
        "print(f'average steps per game: {np.mean(steps_per)}')"
      ]
    },
    {
      "cell_type": "markdown",
      "metadata": {
        "id": "TPFFk0nX5U_b"
      },
      "source": [
        "**Problem 4**\n",
        "\n",
        "* Implement `car()`.\n",
        "* Render the game and run your function once.\n",
        "* Run MountainCar 100 times (without rendering) and print out the average number of steps before it terminates."
      ]
    },
    {
      "cell_type": "code",
      "execution_count": 111,
      "metadata": {
        "id": "Lqq3Q6EO5Wgq"
      },
      "outputs": [],
      "source": [
        "# Problem 4\n",
        "def car(render=False):\n",
        "    \"\"\"\n",
        "    Solve MountainCar-v0 by checking the position\n",
        "    of the car.\n",
        "    Parameters: \n",
        "        render (bool): If True, render environment at each step\n",
        "    Return:\n",
        "        iterations (integer): number of steps or iterations\n",
        "                              to solve the environment\n",
        "    \"\"\"\n",
        "    count = 0\n",
        "    with gym.make(\"MountainCar-v0\") as env:\n",
        "        env.reset()\n",
        "        obs, reward, done, info = env.step(2)\n",
        "        if render:\n",
        "            env.render()\n",
        "        while not done:\n",
        "            if obs[1] > 0:\n",
        "                obs, reward, done, info = env.step(2)\n",
        "            else:\n",
        "                obs, reward, done, info = env.step(0)\n",
        "            if render:\n",
        "                env.render()\n",
        "            count += 1\n",
        "    return count"
      ]
    },
    {
      "cell_type": "code",
      "execution_count": 112,
      "metadata": {
        "id": "4_kSEBYdwgnc"
      },
      "outputs": [
        {
          "data": {
            "text/plain": [
              "120"
            ]
          },
          "execution_count": 112,
          "metadata": {},
          "output_type": "execute_result"
        }
      ],
      "source": [
        "# Render the game here\n",
        "car()"
      ]
    },
    {
      "cell_type": "code",
      "execution_count": 113,
      "metadata": {
        "id": "fUsBDn6KIgw5"
      },
      "outputs": [
        {
          "name": "stdout",
          "output_type": "stream",
          "text": [
            "average steps per game: 118.74\n"
          ]
        }
      ],
      "source": [
        "# Run the game here and print average steps to termination\n",
        "steps_per = []\n",
        "for i in range(100):\n",
        "\tsteps_per.append(car())\n",
        "print(f'average steps per game: {np.mean(steps_per)}')"
      ]
    },
    {
      "cell_type": "markdown",
      "metadata": {
        "id": "U5tSd-zE4sHZ"
      },
      "source": [
        "**Helper Function for Problem 5**"
      ]
    },
    {
      "cell_type": "code",
      "execution_count": 114,
      "metadata": {
        "id": "zNNc3x9x09Zr"
      },
      "outputs": [],
      "source": [
        "def find_qvalues(env,alpha=.1,gamma=.6,epsilon=.1):\n",
        "    \"\"\"\n",
        "    Use the Q-learning algorithm to find qvalues.\n",
        "    Parameters:\n",
        "        env (str): environment name\n",
        "        alpha (float): learning rate\n",
        "        gamma (float): discount factor\n",
        "        epsilon (float): maximum value\n",
        "    Returns:\n",
        "        q_table (ndarray nxm)\n",
        "    \"\"\"\n",
        "    # Make environment\n",
        "    env = gym.make(env)\n",
        "    # Make Q-table\n",
        "    q_table = np.zeros((env.observation_space.n,env.action_space.n))\n",
        "\n",
        "    # Train\n",
        "    for i in range(1,100001):\n",
        "        # Reset state\n",
        "        state = env.reset()\n",
        "\n",
        "        epochs, penalties, reward, = 0,0,0\n",
        "        done = False\n",
        "\n",
        "        while not done:\n",
        "            # Accept based on alpha\n",
        "            if random.uniform(0,1) < epsilon:\n",
        "                action = env.action_space.sample()\n",
        "            else:\n",
        "                action = np.argmax(q_table[state])\n",
        "\n",
        "            # Take action\n",
        "            next_state, reward, done, info = env.step(action)\n",
        "\n",
        "            # Calculate new qvalue\n",
        "            old_value = q_table[state,action]\n",
        "            next_max = np.max(q_table[next_state])\n",
        "\n",
        "            new_value = (1-alpha) * old_value + alpha * (reward + gamma * next_max)\n",
        "            q_table[state, action] = new_value\n",
        "\n",
        "            # Check if penalty is made\n",
        "            if reward == -10:\n",
        "                penalties += 1\n",
        "\n",
        "            # Get next observation\n",
        "            state = next_state\n",
        "            epochs += 1\n",
        "\n",
        "        # Print episode number\n",
        "        if i % 500 == 0:\n",
        "            clear_output(wait=True)\n",
        "            print(f\"Episode: {i}\")\n",
        "\n",
        "    print(\"Training finished.\")\n",
        "    return q_table\n"
      ]
    },
    {
      "cell_type": "markdown",
      "metadata": {
        "id": "ZODhO4AS5YQq"
      },
      "source": [
        "**Problem 5**\n",
        "\n",
        "* Render the \"`Taxi-v3`\" environment, act randomly until it terminates, and calculate the total reward\n",
        "* Render the \"`Taxi-v3`\" environment, use the Q-table to act optimally until it terminates, and calculate the total reward\n",
        "* Implement `taxi()`, then use it to print the average total reward for each algorithm.\n"
      ]
    },
    {
      "cell_type": "code",
      "execution_count": 115,
      "metadata": {
        "id": "e3i-LEnYKHyz"
      },
      "outputs": [],
      "source": [
        "# Random actions Taxi game\n",
        "def random_taxi():\n",
        "\treward_potatoes = 0\n",
        "\twith gym.make(\"Taxi-v3\") as env:\n",
        "\t\tenv.reset()\n",
        "\t\tobs, reward, done, info = env.step(env.action_space.sample())\n",
        "\t\treward_potatoes += reward\n",
        "\t\twhile not done:\n",
        "\t\t\tobs, reward, done, info = env.step(env.action_space.sample())\n",
        "\t\t\treward_potatoes += reward\n",
        "\treturn reward_potatoes"
      ]
    },
    {
      "cell_type": "code",
      "execution_count": 116,
      "metadata": {
        "id": "0ejXeML7KJSJ"
      },
      "outputs": [],
      "source": [
        "# Q-table actions Taxi game\n",
        "def q_taxi(qtable):\n",
        "\treward_potatoes = 0 # total_reward -> tots_reward -> reward_potatoes\n",
        "\twith gym.make(\"Taxi-v3\") as env:\n",
        "\t\tenv.reset()\n",
        "\t\tdone = False\n",
        "\t\tcounter = 0\n",
        "\t\twhile not done:\n",
        "\t\t\tmove = np.argmax(qtable[i])\n",
        "\t\t\tobs,reward,done,info = env.step(move)\n",
        "\t\t\treward_potatoes += reward\n",
        "\treturn reward_potatoes"
      ]
    },
    {
      "cell_type": "code",
      "execution_count": 117,
      "metadata": {
        "id": "APK2iYQV5aR4"
      },
      "outputs": [],
      "source": [
        "def taxi(q_table):\n",
        "    \"\"\"\n",
        "    Compare naive and q-learning algorithms.\n",
        "    Parameters:\n",
        "        q_table (ndarray nxm): table of qvalues\n",
        "    Returns:\n",
        "        naive (float): mean reward of naive algorithm\n",
        "                       of 10000 runs\n",
        "        q_reward (float): mean reward of Q-learning algorithm\n",
        "                          of 10000 runs\n",
        "    \"\"\"\n",
        "    random_potatoes = []\n",
        "    q_potatoes = []\n",
        "    N = 10000\n",
        "    for i in range(1,N+1):\n",
        "        if i%100==0:\n",
        "            clear_output(wait=True)\n",
        "            print(f'running taxi algorithm:\\n{i}', end = f\"/{N} ({100*i/N:.0f}%)\\n\")\n",
        "        random_potatoes.append(random_taxi())\n",
        "        q_potatoes.append(q_taxi(q_table))\n",
        "        \n",
        "    return np.mean(random_potatoes), np.mean(q_potatoes)"
      ]
    },
    {
      "cell_type": "code",
      "execution_count": 118,
      "metadata": {
        "id": "PhS7JR1JKOQu"
      },
      "outputs": [
        {
          "name": "stdout",
          "output_type": "stream",
          "text": [
            "Episode: 100000\n",
            "Training finished.\n"
          ]
        }
      ],
      "source": [
        "qtable = find_qvalues(\"Taxi-v3\")"
      ]
    },
    {
      "cell_type": "code",
      "execution_count": 119,
      "metadata": {},
      "outputs": [
        {
          "name": "stdout",
          "output_type": "stream",
          "text": [
            "running taxi algorithm:\n",
            "10000/10000 (100%)\n",
            "\n",
            "random reward:-768.6895, q_table reward-200.0\n"
          ]
        }
      ],
      "source": [
        "# Print the average rewards of the Taxi game for both algorithms run 10,000 times\n",
        "r, q = taxi(qtable)\n",
        "print(f'\\nrandom reward:{r}, q_table reward{q}')"
      ]
    }
  ],
  "metadata": {
    "colab": {
      "collapsed_sections": [],
      "name": "opengym.ipynb",
      "provenance": []
    },
    "kernelspec": {
      "display_name": "Python 3",
      "name": "python3"
    },
    "language_info": {
      "codemirror_mode": {
        "name": "ipython",
        "version": 3
      },
      "file_extension": ".py",
      "mimetype": "text/x-python",
      "name": "python",
      "nbconvert_exporter": "python",
      "pygments_lexer": "ipython3",
      "version": "3.8.3"
    }
  },
  "nbformat": 4,
  "nbformat_minor": 0
}
